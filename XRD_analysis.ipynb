{
 "cells": [
  {
   "cell_type": "code",
   "execution_count": 1,
   "id": "789f6607",
   "metadata": {
    "scrolled": true
   },
   "outputs": [],
   "source": [
    "from utils.DatsetDownloader import Download_wo_tex_ptb, Download_Ex_dataset_2\n",
    "import warnings\n",
    "\n",
    "warnings.filterwarnings(action='ignore')\n",
    "\n",
    "Download_wo_tex_ptb([10])"
   ]
  },
  {
   "cell_type": "code",
   "execution_count": 2,
   "id": "6a7d3f0a",
   "metadata": {
    "scrolled": true
   },
   "outputs": [
    {
     "name": "stdout",
     "output_type": "stream",
     "text": [
      "WARNING:tensorflow:Error in loading the saved optimizer state. As a result, your model is starting with a freshly initialized optimizer.\n",
      "WARNING:tensorflow:No training configuration found in the save file, so the model was *not* compiled. Compile it manually.\n"
     ]
    }
   ],
   "source": [
    "import tensorflow as tf\n",
    "import h5py as h5\n",
    "import numpy as np\n",
    "\n",
    "data = h5.File(\"datasets/wo_tex_ptb/01_x_Test.h5\", 'r')['data'][:100]\n",
    "data[:, :10001] = data[:, :10001]/100\n",
    "\n",
    "y = tf.keras.utils.to_categorical(data[:, -3]-1, num_classes=7)\n",
    "\n",
    "smallfcn = tf.keras.models.load_model(\"models/smallFCN_CS.h5\")\n",
    "smallp2p_gene = tf.keras.models.load_model(\"models/smallPix2Pix_gene.h5\")"
   ]
  },
  {
   "cell_type": "code",
   "execution_count": 3,
   "id": "879edac7",
   "metadata": {},
   "outputs": [
    {
     "name": "stdout",
     "output_type": "stream",
     "text": [
      "Model: \"FCN\"\n",
      "_________________________________________________________________\n",
      " Layer (type)                Output Shape              Param #   \n",
      "=================================================================\n",
      " input_3 (InputLayer)        [(None, 8192, 1)]         0         \n",
      "                                                                 \n",
      " conv1d_28 (Conv1D)          (None, 8192, 16)          96        \n",
      "                                                                 \n",
      " max_pooling1d_26 (MaxPoolin  (None, 4096, 16)         0         \n",
      " g1D)                                                            \n",
      "                                                                 \n",
      " dropout_26 (Dropout)        (None, 4096, 16)          0         \n",
      "                                                                 \n",
      " conv1d_29 (Conv1D)          (None, 4096, 16)          1296      \n",
      "                                                                 \n",
      " max_pooling1d_27 (MaxPoolin  (None, 2048, 16)         0         \n",
      " g1D)                                                            \n",
      "                                                                 \n",
      " dropout_27 (Dropout)        (None, 2048, 16)          0         \n",
      "                                                                 \n",
      " conv1d_30 (Conv1D)          (None, 2048, 32)          2592      \n",
      "                                                                 \n",
      " max_pooling1d_28 (MaxPoolin  (None, 1024, 32)         0         \n",
      " g1D)                                                            \n",
      "                                                                 \n",
      " dropout_28 (Dropout)        (None, 1024, 32)          0         \n",
      "                                                                 \n",
      " conv1d_31 (Conv1D)          (None, 1024, 32)          5152      \n",
      "                                                                 \n",
      " max_pooling1d_29 (MaxPoolin  (None, 512, 32)          0         \n",
      " g1D)                                                            \n",
      "                                                                 \n",
      " dropout_29 (Dropout)        (None, 512, 32)           0         \n",
      "                                                                 \n",
      " conv1d_32 (Conv1D)          (None, 512, 64)           10304     \n",
      "                                                                 \n",
      " max_pooling1d_30 (MaxPoolin  (None, 256, 64)          0         \n",
      " g1D)                                                            \n",
      "                                                                 \n",
      " dropout_30 (Dropout)        (None, 256, 64)           0         \n",
      "                                                                 \n",
      " conv1d_33 (Conv1D)          (None, 256, 64)           20544     \n",
      "                                                                 \n",
      " max_pooling1d_31 (MaxPoolin  (None, 128, 64)          0         \n",
      " g1D)                                                            \n",
      "                                                                 \n",
      " dropout_31 (Dropout)        (None, 128, 64)           0         \n",
      "                                                                 \n",
      " conv1d_34 (Conv1D)          (None, 128, 128)          41088     \n",
      "                                                                 \n",
      " max_pooling1d_32 (MaxPoolin  (None, 64, 128)          0         \n",
      " g1D)                                                            \n",
      "                                                                 \n",
      " dropout_32 (Dropout)        (None, 64, 128)           0         \n",
      "                                                                 \n",
      " conv1d_35 (Conv1D)          (None, 64, 128)           82048     \n",
      "                                                                 \n",
      " max_pooling1d_33 (MaxPoolin  (None, 32, 128)          0         \n",
      " g1D)                                                            \n",
      "                                                                 \n",
      " dropout_33 (Dropout)        (None, 32, 128)           0         \n",
      "                                                                 \n",
      " conv1d_36 (Conv1D)          (None, 32, 256)           164096    \n",
      "                                                                 \n",
      " max_pooling1d_34 (MaxPoolin  (None, 16, 256)          0         \n",
      " g1D)                                                            \n",
      "                                                                 \n",
      " dropout_34 (Dropout)        (None, 16, 256)           0         \n",
      "                                                                 \n",
      " conv1d_37 (Conv1D)          (None, 16, 256)           327936    \n",
      "                                                                 \n",
      " max_pooling1d_35 (MaxPoolin  (None, 8, 256)           0         \n",
      " g1D)                                                            \n",
      "                                                                 \n",
      " dropout_35 (Dropout)        (None, 8, 256)            0         \n",
      "                                                                 \n",
      " conv1d_38 (Conv1D)          (None, 8, 512)            655872    \n",
      "                                                                 \n",
      " max_pooling1d_36 (MaxPoolin  (None, 4, 512)           0         \n",
      " g1D)                                                            \n",
      "                                                                 \n",
      " dropout_36 (Dropout)        (None, 4, 512)            0         \n",
      "                                                                 \n",
      " conv1d_39 (Conv1D)          (None, 4, 512)            1311232   \n",
      "                                                                 \n",
      " max_pooling1d_37 (MaxPoolin  (None, 2, 512)           0         \n",
      " g1D)                                                            \n",
      "                                                                 \n",
      " dropout_37 (Dropout)        (None, 2, 512)            0         \n",
      "                                                                 \n",
      " conv1d_40 (Conv1D)          (None, 2, 64)             163904    \n",
      "                                                                 \n",
      " max_pooling1d_38 (MaxPoolin  (None, 1, 64)            0         \n",
      " g1D)                                                            \n",
      "                                                                 \n",
      " dropout_38 (Dropout)        (None, 1, 64)             0         \n",
      "                                                                 \n",
      " conv1d_41 (Conv1D)          (None, 1, 7)              455       \n",
      "                                                                 \n",
      " flatten_2 (Flatten)         (None, 7)                 0         \n",
      "                                                                 \n",
      " tf.nn.softmax_2 (TFOpLambda  (None, 7)                0         \n",
      " )                                                               \n",
      "                                                                 \n",
      "=================================================================\n",
      "Total params: 2,786,615\n",
      "Trainable params: 2,786,615\n",
      "Non-trainable params: 0\n",
      "_________________________________________________________________\n"
     ]
    }
   ],
   "source": [
    "smallfcn.summary()"
   ]
  },
  {
   "cell_type": "code",
   "execution_count": 4,
   "id": "e15c3fd8",
   "metadata": {
    "scrolled": true
   },
   "outputs": [
    {
     "name": "stdout",
     "output_type": "stream",
     "text": [
      "Model: \"model\"\n",
      "__________________________________________________________________________________________________\n",
      " Layer (type)                   Output Shape         Param #     Connected to                     \n",
      "==================================================================================================\n",
      " input_1 (InputLayer)           [(None, 8192, 1)]    0           []                               \n",
      "                                                                                                  \n",
      " sequential (Sequential)        (None, 8192, 64)     320         ['input_1[0][0]']                \n",
      "                                                                                                  \n",
      " sequential_1 (Sequential)      (None, 8192, 64)     20736       ['sequential[0][0]']             \n",
      "                                                                                                  \n",
      " sequential_2 (Sequential)      (None, 4096, 64)     20736       ['sequential_1[0][0]']           \n",
      "                                                                                                  \n",
      " sequential_3 (Sequential)      (None, 4096, 128)    41472       ['sequential_2[0][0]']           \n",
      "                                                                                                  \n",
      " sequential_4 (Sequential)      (None, 4096, 128)    82432       ['sequential_3[0][0]']           \n",
      "                                                                                                  \n",
      " sequential_5 (Sequential)      (None, 2048, 128)    82432       ['sequential_4[0][0]']           \n",
      "                                                                                                  \n",
      " sequential_6 (Sequential)      (None, 2048, 256)    164864      ['sequential_5[0][0]']           \n",
      "                                                                                                  \n",
      " sequential_7 (Sequential)      (None, 2048, 256)    328704      ['sequential_6[0][0]']           \n",
      "                                                                                                  \n",
      " sequential_8 (Sequential)      (None, 1024, 256)    328704      ['sequential_7[0][0]']           \n",
      "                                                                                                  \n",
      " sequential_9 (Sequential)      (None, 1024, 512)    657408      ['sequential_8[0][0]']           \n",
      "                                                                                                  \n",
      " sequential_10 (Sequential)     (None, 1024, 512)    1312768     ['sequential_9[0][0]']           \n",
      "                                                                                                  \n",
      " sequential_11 (Sequential)     (None, 512, 512)     1312768     ['sequential_10[0][0]']          \n",
      "                                                                                                  \n",
      " sequential_12 (Sequential)     (None, 1024, 512)    1313280     ['sequential_11[0][0]']          \n",
      "                                                                                                  \n",
      " concatenate (Concatenate)      (None, 1024, 1024)   0           ['sequential_12[0][0]',          \n",
      "                                                                  'sequential_10[0][0]']          \n",
      "                                                                                                  \n",
      " sequential_13 (Sequential)     (None, 1024, 512)    2624000     ['concatenate[0][0]']            \n",
      "                                                                                                  \n",
      " concatenate_1 (Concatenate)    (None, 1024, 1024)   0           ['sequential_13[0][0]',          \n",
      "                                                                  'sequential_9[0][0]']           \n",
      "                                                                                                  \n",
      " sequential_14 (Sequential)     (None, 1024, 512)    2624000     ['concatenate_1[0][0]']          \n",
      "                                                                                                  \n",
      " concatenate_2 (Concatenate)    (None, 1024, 768)    0           ['sequential_14[0][0]',          \n",
      "                                                                  'sequential_8[0][0]']           \n",
      "                                                                                                  \n",
      " sequential_15 (Sequential)     (None, 2048, 256)    984320      ['concatenate_2[0][0]']          \n",
      "                                                                                                  \n",
      " concatenate_3 (Concatenate)    (None, 2048, 512)    0           ['sequential_15[0][0]',          \n",
      "                                                                  'sequential_7[0][0]']           \n",
      "                                                                                                  \n",
      " sequential_16 (Sequential)     (None, 2048, 256)    656640      ['concatenate_3[0][0]']          \n",
      "                                                                                                  \n",
      " concatenate_4 (Concatenate)    (None, 2048, 512)    0           ['sequential_16[0][0]',          \n",
      "                                                                  'sequential_6[0][0]']           \n",
      "                                                                                                  \n",
      " sequential_17 (Sequential)     (None, 2048, 256)    656640      ['concatenate_4[0][0]']          \n",
      "                                                                                                  \n",
      " concatenate_5 (Concatenate)    (None, 2048, 384)    0           ['sequential_17[0][0]',          \n",
      "                                                                  'sequential_5[0][0]']           \n",
      "                                                                                                  \n",
      " sequential_18 (Sequential)     (None, 4096, 128)    246400      ['concatenate_5[0][0]']          \n",
      "                                                                                                  \n",
      " concatenate_6 (Concatenate)    (None, 4096, 256)    0           ['sequential_18[0][0]',          \n",
      "                                                                  'sequential_4[0][0]']           \n",
      "                                                                                                  \n",
      " sequential_19 (Sequential)     (None, 4096, 128)    164480      ['concatenate_6[0][0]']          \n",
      "                                                                                                  \n",
      " concatenate_7 (Concatenate)    (None, 4096, 256)    0           ['sequential_19[0][0]',          \n",
      "                                                                  'sequential_3[0][0]']           \n",
      "                                                                                                  \n",
      " sequential_20 (Sequential)     (None, 4096, 128)    164480      ['concatenate_7[0][0]']          \n",
      "                                                                                                  \n",
      " concatenate_8 (Concatenate)    (None, 4096, 192)    0           ['sequential_20[0][0]',          \n",
      "                                                                  'sequential_2[0][0]']           \n",
      "                                                                                                  \n",
      " sequential_21 (Sequential)     (None, 8192, 64)     61760       ['concatenate_8[0][0]']          \n",
      "                                                                                                  \n",
      " concatenate_9 (Concatenate)    (None, 8192, 128)    0           ['sequential_21[0][0]',          \n",
      "                                                                  'sequential_1[0][0]']           \n",
      "                                                                                                  \n",
      " sequential_22 (Sequential)     (None, 8192, 64)     41280       ['concatenate_9[0][0]']          \n",
      "                                                                                                  \n",
      " concatenate_10 (Concatenate)   (None, 8192, 128)    0           ['sequential_22[0][0]',          \n",
      "                                                                  'sequential[0][0]']             \n"
     ]
    },
    {
     "name": "stdout",
     "output_type": "stream",
     "text": [
      "                                                                                                  \n",
      " conv1d_12 (Conv1D)             (None, 8192, 1)      641         ['concatenate_10[0][0]']         \n",
      "                                                                                                  \n",
      "==================================================================================================\n",
      "Total params: 13,891,265\n",
      "Trainable params: 13,880,001\n",
      "Non-trainable params: 11,264\n",
      "__________________________________________________________________________________________________\n"
     ]
    }
   ],
   "source": [
    "smallp2p_gene.summary()"
   ]
  },
  {
   "cell_type": "code",
   "execution_count": 5,
   "id": "e7b7061f",
   "metadata": {},
   "outputs": [
    {
     "name": "stdout",
     "output_type": "stream",
     "text": [
      "4/4 [==============================] - 8s 2s/step\n"
     ]
    }
   ],
   "source": [
    "output = smallp2p_gene.predict(data[:, :8192].reshape(-1, 8192, 1))"
   ]
  },
  {
   "cell_type": "code",
   "execution_count": 6,
   "id": "f4f4b213",
   "metadata": {},
   "outputs": [
    {
     "data": {
      "image/png": "[encoded data removed]",
      "text/plain": [
       "<Figure size 1000x600 with 2 Axes>"
      ]
     },
     "metadata": {},
     "output_type": "display_data"
    }
   ],
   "source": [
    "import matplotlib.pyplot as plt\n",
    "\n",
    "fig, axes = plt.subplots(2, 1, figsize=(10, 6))\n",
    "\n",
    "axes[0].plot(np.arange(0, 8192)/100 + 5, data[0, :8192], c = 'red')\n",
    "axes[1].plot(np.arange(0, 8192)/100 + 5, output[0, :, 0], c = 'blue')\n",
    "\n",
    "axes[0].text(55, 0.85, \"Texture-free perturbed XRD\", fontsize=14, c = 'red')\n",
    "axes[1].text(55, 0.85, \"Converted XRD\", fontsize=14, c = 'blue')\n",
    "\n",
    "axes[0].set_ylim(-0.05, 1.05)\n",
    "axes[1].set_ylim(-0.05, 1.05)\n",
    "\n",
    "plt.show()"
   ]
  },
  {
   "cell_type": "code",
   "execution_count": 7,
   "id": "2d52f904",
   "metadata": {},
   "outputs": [
    {
     "name": "stdout",
     "output_type": "stream",
     "text": [
      "4/4 [==============================] - 0s 25ms/step - loss: 0.3399 - accuracy: 0.9400\n",
      "4/4 [==============================] - 0s 22ms/step - loss: 0.3405 - accuracy: 0.9300\n"
     ]
    }
   ],
   "source": [
    "evaluation_sfcn = smallfcn.evaluate(data[:, :8192].reshape(-1, 8192, 1), y)\n",
    "evaluation_conv = smallfcn.evaluate(output, y)"
   ]
  },
  {
   "cell_type": "code",
   "execution_count": 8,
   "id": "e34bfca6",
   "metadata": {},
   "outputs": [],
   "source": [
    "Ex_dataset_1 = np.loadtxt(\"./datasets/Ex_dataset_1/Ex_dataset_1.csv\", delimiter = ',')\n",
    "Ex_1_train = Ex_dataset_1[:,:8192]\n",
    "Ex_1_test = tf.keras.utils.to_categorical(Ex_dataset_1[:,-3]-1, num_classes=7)"
   ]
  },
  {
   "cell_type": "code",
   "execution_count": 9,
   "id": "ae23b45d",
   "metadata": {},
   "outputs": [
    {
     "name": "stdout",
     "output_type": "stream",
     "text": [
      "2/2 [==============================] - 0s 26ms/step - loss: 0.4758 - accuracy: 0.9038\n"
     ]
    }
   ],
   "source": [
    "evaluation_sfcn = smallfcn.evaluate(Ex_1_train.reshape(-1, 8192, 1), Ex_1_test)"
   ]
  },
  {
   "cell_type": "code",
   "execution_count": 10,
   "id": "61156087",
   "metadata": {},
   "outputs": [],
   "source": [
    "Download_Ex_dataset_2()"
   ]
  },
  {
   "cell_type": "code",
   "execution_count": 11,
   "id": "feef076a",
   "metadata": {},
   "outputs": [],
   "source": [
    "Ex_dataset_2 = np.loadtxt(\"./datasets/Ex_dataset_2/Ex_dataset_2.csv\", delimiter = ',')\n",
    "Ex_2_train = Ex_dataset_2[:,:8192]\n",
    "Ex_2_test = tf.keras.utils.to_categorical(Ex_dataset_2[:,-3]-1, num_classes=7)"
   ]
  },
  {
   "cell_type": "code",
   "execution_count": 12,
   "id": "31d0cbc4",
   "metadata": {},
   "outputs": [
    {
     "name": "stdout",
     "output_type": "stream",
     "text": [
      "51/51 [==============================] - 1s 28ms/step - loss: 2.0550 - accuracy: 0.7053\n"
     ]
    }
   ],
   "source": [
    "evaluation_sfcn = smallfcn.evaluate(Ex_2_train.reshape(-1, 8192, 1), Ex_2_test)"
   ]
  },
  {
   "cell_type": "code",
   "execution_count": null,
   "id": "889449f3",
   "metadata": {},
   "outputs": [],
   "source": []
  }
 ],
 "metadata": {
  "kernelspec": {
   "display_name": "Python 3 (ipykernel)",
   "language": "python",
   "name": "python3"
  },
  "language_info": {
   "codemirror_mode": {
    "name": "ipython",
    "version": 3
   },
   "file_extension": ".py",
   "mimetype": "text/x-python",
   "name": "python",
   "nbconvert_exporter": "python",
   "pygments_lexer": "ipython3",
   "version": "3.10.8"
  },
  "latex_envs": {
   "LaTeX_envs_menu_present": true,
   "autoclose": false,
   "autocomplete": true,
   "bibliofile": "biblio.bib",
   "cite_by": "apalike",
   "current_citInitial": 1,
   "eqLabelWithNumbers": true,
   "eqNumInitial": 1,
   "hotkeys": {
    "equation": "Ctrl-E",
    "itemize": "Ctrl-I"
   },
   "labels_anchors": false,
   "latex_user_defs": false,
   "report_style_numbering": false,
   "user_envs_cfg": false
  },
  "varInspector": {
   "cols": {
    "lenName": 16,
    "lenType": 16,
    "lenVar": 40
   },
   "kernels_config": {
    "python": {
     "delete_cmd_postfix": "",
     "delete_cmd_prefix": "del ",
     "library": "var_list.py",
     "varRefreshCmd": "print(var_dic_list())"
    },
    "r": {
     "delete_cmd_postfix": ") ",
     "delete_cmd_prefix": "rm(",
     "library": "var_list.r",
     "varRefreshCmd": "cat(var_dic_list()) "
    }
   },
   "types_to_exclude": [
    "module",
    "function",
    "builtin_function_or_method",
    "instance",
    "_Feature"
   ],
   "window_display": false
  }
 },
 "nbformat": 4,
 "nbformat_minor": 5
}
